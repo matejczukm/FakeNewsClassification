{
 "cells": [
  {
   "cell_type": "markdown",
   "id": "5ee67d5b",
   "metadata": {},
   "source": [
    "## Splitting the database"
   ]
  },
  {
   "cell_type": "code",
   "execution_count": 1,
   "id": "439ad87a",
   "metadata": {
    "scrolled": false
   },
   "outputs": [
    {
     "data": {
      "text/plain": [
       "0            1\n",
       "1            2\n",
       "2            3\n",
       "3            4\n",
       "4            5\n",
       "         ...  \n",
       "69039    69040\n",
       "69040    69041\n",
       "69041    69042\n",
       "69042    69043\n",
       "69043    69044\n",
       "Name: id, Length: 69044, dtype: int64"
      ]
     },
     "execution_count": 1,
     "metadata": {},
     "output_type": "execute_result"
    }
   ],
   "source": [
    "import pandas as pd\n",
    "from sklearn.metrics import classification_report\n",
    "from sklearn.neighbors import KNeighborsClassifier\n",
    "from sklearn.model_selection import train_test_split\n",
    "import numpy as np\n",
    "from statistics import mean\n",
    "from langdetect import detect\n",
    "\n",
    "df = pd.read_csv('PreProcessedData.csv', sep=',', names=['id','title','text','type'], header=None, skiprows=2,)\n",
    "df.pop(df.columns[0])"
   ]
  },
  {
   "cell_type": "code",
   "execution_count": 2,
   "id": "288481b4",
   "metadata": {},
   "outputs": [
    {
     "data": {
      "text/html": [
       "<div>\n",
       "<style scoped>\n",
       "    .dataframe tbody tr th:only-of-type {\n",
       "        vertical-align: middle;\n",
       "    }\n",
       "\n",
       "    .dataframe tbody tr th {\n",
       "        vertical-align: top;\n",
       "    }\n",
       "\n",
       "    .dataframe thead th {\n",
       "        text-align: right;\n",
       "    }\n",
       "</style>\n",
       "<table border=\"1\" class=\"dataframe\">\n",
       "  <thead>\n",
       "    <tr style=\"text-align: right;\">\n",
       "      <th></th>\n",
       "      <th>title</th>\n",
       "      <th>text</th>\n",
       "      <th>type</th>\n",
       "    </tr>\n",
       "  </thead>\n",
       "  <tbody>\n",
       "    <tr>\n",
       "      <th>0</th>\n",
       "      <td>Rating: Moody‘s verbessert Ausblick für Russla...</td>\n",
       "      <td>bankensektor Der russische Staat werde die Ban...</td>\n",
       "      <td>0</td>\n",
       "    </tr>\n",
       "    <tr>\n",
       "      <th>1</th>\n",
       "      <td>CAN WE ADD DIRTY MONEY ‘LAUNDERING’ To The Oba...</td>\n",
       "      <td>A member of the House Intelligence Committee i...</td>\n",
       "      <td>0</td>\n",
       "    </tr>\n",
       "    <tr>\n",
       "      <th>2</th>\n",
       "      <td>Republicans on Obamacare repeal: 'We're going ...</td>\n",
       "      <td>WASHINGTON (Reuters) - House of Representative...</td>\n",
       "      <td>1</td>\n",
       "    </tr>\n",
       "    <tr>\n",
       "      <th>3</th>\n",
       "      <td>Trump, on possible DACA deal, says border wall...</td>\n",
       "      <td>WASHINGTON (Reuters) - U.S. President Donald T...</td>\n",
       "      <td>1</td>\n",
       "    </tr>\n",
       "    <tr>\n",
       "      <th>4</th>\n",
       "      <td>Here Is Why the Trump Administration Will Be a...</td>\n",
       "      <td>Originally appeared at The American Conservati...</td>\n",
       "      <td>0</td>\n",
       "    </tr>\n",
       "  </tbody>\n",
       "</table>\n",
       "</div>"
      ],
      "text/plain": [
       "                                               title  \\\n",
       "0  Rating: Moody‘s verbessert Ausblick für Russla...   \n",
       "1  CAN WE ADD DIRTY MONEY ‘LAUNDERING’ To The Oba...   \n",
       "2  Republicans on Obamacare repeal: 'We're going ...   \n",
       "3  Trump, on possible DACA deal, says border wall...   \n",
       "4  Here Is Why the Trump Administration Will Be a...   \n",
       "\n",
       "                                                text  type  \n",
       "0  bankensektor Der russische Staat werde die Ban...     0  \n",
       "1  A member of the House Intelligence Committee i...     0  \n",
       "2  WASHINGTON (Reuters) - House of Representative...     1  \n",
       "3  WASHINGTON (Reuters) - U.S. President Donald T...     1  \n",
       "4  Originally appeared at The American Conservati...     0  "
      ]
     },
     "execution_count": 2,
     "metadata": {},
     "output_type": "execute_result"
    }
   ],
   "source": [
    "def convert_labels(target: pd.Series) -> pd.Series:\n",
    "    return pd.Series(np.where(target == 'fake', 0, 1))\n",
    "\n",
    "df['type'] = convert_labels(df['type'])\n",
    "df.head()"
   ]
  },
  {
   "cell_type": "code",
   "execution_count": 3,
   "id": "4472cf06",
   "metadata": {},
   "outputs": [
    {
     "data": {
      "text/html": [
       "<div>\n",
       "<style scoped>\n",
       "    .dataframe tbody tr th:only-of-type {\n",
       "        vertical-align: middle;\n",
       "    }\n",
       "\n",
       "    .dataframe tbody tr th {\n",
       "        vertical-align: top;\n",
       "    }\n",
       "\n",
       "    .dataframe thead th {\n",
       "        text-align: right;\n",
       "    }\n",
       "</style>\n",
       "<table border=\"1\" class=\"dataframe\">\n",
       "  <thead>\n",
       "    <tr style=\"text-align: right;\">\n",
       "      <th></th>\n",
       "      <th>title</th>\n",
       "      <th>text</th>\n",
       "      <th>type</th>\n",
       "    </tr>\n",
       "  </thead>\n",
       "  <tbody>\n",
       "    <tr>\n",
       "      <th>0</th>\n",
       "      <td>Rating: Moody‘s verbessert Ausblick für Russla...</td>\n",
       "      <td>bankensektor Der russische Staat werde die Ban...</td>\n",
       "      <td>0</td>\n",
       "    </tr>\n",
       "    <tr>\n",
       "      <th>1</th>\n",
       "      <td>CAN WE ADD DIRTY MONEY ‘LAUNDERING’ To The Oba...</td>\n",
       "      <td>A member of the House Intelligence Committee i...</td>\n",
       "      <td>0</td>\n",
       "    </tr>\n",
       "    <tr>\n",
       "      <th>2</th>\n",
       "      <td>Republicans on Obamacare repeal: 'We're going ...</td>\n",
       "      <td>WASHINGTON (Reuters) - House of Representative...</td>\n",
       "      <td>1</td>\n",
       "    </tr>\n",
       "    <tr>\n",
       "      <th>3</th>\n",
       "      <td>Trump, on possible DACA deal, says border wall...</td>\n",
       "      <td>WASHINGTON (Reuters) - U.S. President Donald T...</td>\n",
       "      <td>1</td>\n",
       "    </tr>\n",
       "    <tr>\n",
       "      <th>4</th>\n",
       "      <td>Here Is Why the Trump Administration Will Be a...</td>\n",
       "      <td>Originally appeared at The American Conservati...</td>\n",
       "      <td>0</td>\n",
       "    </tr>\n",
       "  </tbody>\n",
       "</table>\n",
       "</div>"
      ],
      "text/plain": [
       "                                               title  \\\n",
       "0  Rating: Moody‘s verbessert Ausblick für Russla...   \n",
       "1  CAN WE ADD DIRTY MONEY ‘LAUNDERING’ To The Oba...   \n",
       "2  Republicans on Obamacare repeal: 'We're going ...   \n",
       "3  Trump, on possible DACA deal, says border wall...   \n",
       "4  Here Is Why the Trump Administration Will Be a...   \n",
       "\n",
       "                                                text  type  \n",
       "0  bankensektor Der russische Staat werde die Ban...     0  \n",
       "1  A member of the House Intelligence Committee i...     0  \n",
       "2  WASHINGTON (Reuters) - House of Representative...     1  \n",
       "3  WASHINGTON (Reuters) - U.S. President Donald T...     1  \n",
       "4  Originally appeared at The American Conservati...     0  "
      ]
     },
     "execution_count": 3,
     "metadata": {},
     "output_type": "execute_result"
    }
   ],
   "source": [
    "train, test, validation = np.split(df, [int(len(df) * 0.6), int(len(df) * 0.8)])\n",
    "train.head()"
   ]
  },
  {
   "cell_type": "markdown",
   "id": "c48edff5",
   "metadata": {},
   "source": [
    "## Replacing NA and changing formats"
   ]
  },
  {
   "cell_type": "code",
   "execution_count": 4,
   "id": "33d8f925",
   "metadata": {},
   "outputs": [
    {
     "name": "stdout",
     "output_type": "stream",
     "text": [
      "426\n",
      "0\n"
     ]
    }
   ],
   "source": [
    "# How many of them have either title na or text na and if any have both\n",
    "print(len(train[train['title'].isna() | train['text'].isna()]))\n",
    "print(len(train[train['title'].isna() & train['text'].isna()]))"
   ]
  },
  {
   "cell_type": "code",
   "execution_count": 5,
   "id": "7c7731a5",
   "metadata": {},
   "outputs": [],
   "source": [
    "# let's replace na values in title & text columns with an empty string\n",
    "def replace_na(df):\n",
    "    _df = df.copy()\n",
    "    _df['title'] = _df['title'].fillna('')\n",
    "    _df['text'] = _df['text'].fillna('')\n",
    "    _df.loc[df['text'].str.isspace() | _df['title'].str.isspace(), 'text'] = ''\n",
    "    return _df\n",
    "\n",
    "train_copy = train.copy()\n",
    "train_copy = replace_na(train_copy)"
   ]
  },
  {
   "cell_type": "markdown",
   "id": "b3262068",
   "metadata": {},
   "source": [
    "# Dropping duplicates"
   ]
  },
  {
   "cell_type": "code",
   "execution_count": 6,
   "id": "d55b31fa",
   "metadata": {},
   "outputs": [],
   "source": [
    "def drop_duplicates(df):\n",
    "    return df.drop_duplicates()"
   ]
  },
  {
   "cell_type": "code",
   "execution_count": 7,
   "id": "69b8f206",
   "metadata": {},
   "outputs": [
    {
     "name": "stdout",
     "output_type": "stream",
     "text": [
      "Dropped 3503 duplicates\n"
     ]
    }
   ],
   "source": [
    "count_before = len(train_copy)\n",
    "train_copy = drop_duplicates(train_copy)\n",
    "print('Dropped', count_before - len(train_copy), 'duplicates')"
   ]
  },
  {
   "cell_type": "markdown",
   "id": "6e01625a",
   "metadata": {},
   "source": [
    "## Removing rows written in language different than English"
   ]
  },
  {
   "cell_type": "code",
   "execution_count": 8,
   "id": "c284b3df",
   "metadata": {},
   "outputs": [],
   "source": [
    "def detect_language(row):\n",
    "    try:\n",
    "        return detect(row['title'])\n",
    "    except:\n",
    "        try:\n",
    "            return detect(row['text'])\n",
    "        except:\n",
    "            return ''\n",
    "\n",
    "def remove_other_languages(df):\n",
    "    _df = df.copy()\n",
    "    _df['language'] = _df['text']\n",
    "    _df['language'] =_df.apply(lambda row: detect_language(row), axis=1)\n",
    "    bad_rows_count = len(_df[_df['language'] != 'en'])\n",
    "    print(f'There are', bad_rows_count, 'rows with a language different than English')\n",
    "    _df = _df.drop(_df[_df.language != 'en'].index)\n",
    "    _df = _df.drop('language', axis=1)\n",
    "    return _df"
   ]
  },
  {
   "cell_type": "code",
   "execution_count": 9,
   "id": "d3692a00",
   "metadata": {
    "scrolled": true
   },
   "outputs": [
    {
     "name": "stdout",
     "output_type": "stream",
     "text": [
      "There are 1631 rows with a language different than English\n"
     ]
    },
    {
     "data": {
      "text/html": [
       "<div>\n",
       "<style scoped>\n",
       "    .dataframe tbody tr th:only-of-type {\n",
       "        vertical-align: middle;\n",
       "    }\n",
       "\n",
       "    .dataframe tbody tr th {\n",
       "        vertical-align: top;\n",
       "    }\n",
       "\n",
       "    .dataframe thead th {\n",
       "        text-align: right;\n",
       "    }\n",
       "</style>\n",
       "<table border=\"1\" class=\"dataframe\">\n",
       "  <thead>\n",
       "    <tr style=\"text-align: right;\">\n",
       "      <th></th>\n",
       "      <th>title</th>\n",
       "      <th>text</th>\n",
       "      <th>type</th>\n",
       "    </tr>\n",
       "  </thead>\n",
       "  <tbody>\n",
       "    <tr>\n",
       "      <th>1</th>\n",
       "      <td>CAN WE ADD DIRTY MONEY ‘LAUNDERING’ To The Oba...</td>\n",
       "      <td>A member of the House Intelligence Committee i...</td>\n",
       "      <td>0</td>\n",
       "    </tr>\n",
       "    <tr>\n",
       "      <th>2</th>\n",
       "      <td>Republicans on Obamacare repeal: 'We're going ...</td>\n",
       "      <td>WASHINGTON (Reuters) - House of Representative...</td>\n",
       "      <td>1</td>\n",
       "    </tr>\n",
       "    <tr>\n",
       "      <th>3</th>\n",
       "      <td>Trump, on possible DACA deal, says border wall...</td>\n",
       "      <td>WASHINGTON (Reuters) - U.S. President Donald T...</td>\n",
       "      <td>1</td>\n",
       "    </tr>\n",
       "    <tr>\n",
       "      <th>4</th>\n",
       "      <td>Here Is Why the Trump Administration Will Be a...</td>\n",
       "      <td>Originally appeared at The American Conservati...</td>\n",
       "      <td>0</td>\n",
       "    </tr>\n",
       "    <tr>\n",
       "      <th>5</th>\n",
       "      <td>Trump health pick favors insurance for people ...</td>\n",
       "      <td>(Reuters) - President Donald Trump’s nominee t...</td>\n",
       "      <td>1</td>\n",
       "    </tr>\n",
       "  </tbody>\n",
       "</table>\n",
       "</div>"
      ],
      "text/plain": [
       "                                               title  \\\n",
       "1  CAN WE ADD DIRTY MONEY ‘LAUNDERING’ To The Oba...   \n",
       "2  Republicans on Obamacare repeal: 'We're going ...   \n",
       "3  Trump, on possible DACA deal, says border wall...   \n",
       "4  Here Is Why the Trump Administration Will Be a...   \n",
       "5  Trump health pick favors insurance for people ...   \n",
       "\n",
       "                                                text  type  \n",
       "1  A member of the House Intelligence Committee i...     0  \n",
       "2  WASHINGTON (Reuters) - House of Representative...     1  \n",
       "3  WASHINGTON (Reuters) - U.S. President Donald T...     1  \n",
       "4  Originally appeared at The American Conservati...     0  \n",
       "5  (Reuters) - President Donald Trump’s nominee t...     1  "
      ]
     },
     "execution_count": 9,
     "metadata": {},
     "output_type": "execute_result"
    }
   ],
   "source": [
    "train_copy = remove_other_languages(train_copy)\n",
    "train_copy.head()"
   ]
  },
  {
   "cell_type": "markdown",
   "id": "d5b7f9ea",
   "metadata": {},
   "source": [
    "## Generating additional columns"
   ]
  },
  {
   "cell_type": "code",
   "execution_count": 10,
   "id": "e6d43fbc",
   "metadata": {},
   "outputs": [],
   "source": [
    "def count_capital_letters_part(title):\n",
    "    capital_letters = 0\n",
    "    c: str\n",
    "    for c in title:\n",
    "        if c.isupper():\n",
    "            capital_letters += 1\n",
    "\n",
    "    return capital_letters / len(title) if len(title) > 0 else 0\n",
    "\n",
    "def count_punctuation_marks_per_char(text):\n",
    "    if len(text) == 0:\n",
    "        return 0\n",
    "    return (text.count('?') +\n",
    "            text.count('!') +\n",
    "            text.count('.') +\n",
    "            text.count(',') +\n",
    "            text.count(':') +\n",
    "            text.count('-') +\n",
    "            text.count('\"') +\n",
    "            text.count(';')) / len(text)\n",
    "\n",
    "def avg_word_length(text):\n",
    "    words = text.split()\n",
    "\n",
    "    if len(words) == 0:\n",
    "        return 0\n",
    "\n",
    "    return mean([len(word) for word in words])\n",
    "\n",
    "reliable_sources = ['Reuters', 'CNN']\n",
    "reliable_sources = [f'({x})' for x in reliable_sources]\n",
    "spam_phrases = ['FOLLOW', 'CLICK', 'SUBSCRIBE', 'FREE']\n",
    "\n",
    "def generate_metadata_columns(df): \n",
    "    _df = df.copy()\n",
    "    _df['title_length'] = _df['title'].str.len()\n",
    "    _df['capital_letters_part'] = _df['title'].apply(count_capital_letters_part)\n",
    "    _df['trustworthy_source'] = (_df['text'].str.contains('|'.join(reliable_sources), regex=True)).astype('int')\n",
    "    _df['link_count'] = _df['text'].str.count('#') + _df['text'].str.count('http') + _df['text'].str.count('@')\n",
    "    _df['spam_phrases'] = _df['text'].str.contains('|'.join(spam_phrases)).astype('int')\n",
    "    _df['punctuation_marks_per_char'] = _df['text'].apply(count_punctuation_marks_per_char)\n",
    "    _df['avg_word_length'] = _df['text'].apply(avg_word_length)\n",
    "    return _df[['title_length',\n",
    "                'capital_letters_part', \n",
    "                'trustworthy_source', \n",
    "                'link_count', \n",
    "                'spam_phrases', \n",
    "                'punctuation_marks_per_char',\n",
    "                'avg_word_length', \n",
    "                'type']]"
   ]
  },
  {
   "cell_type": "code",
   "execution_count": 11,
   "id": "65f7da3a",
   "metadata": {
    "scrolled": false
   },
   "outputs": [
    {
     "name": "stderr",
     "output_type": "stream",
     "text": [
      "/var/folders/l_/7bmr3bvd63v8fld1s2fcmh7w0000gn/T/ipykernel_62568/1885311886.py:38: UserWarning: This pattern is interpreted as a regular expression, and has match groups. To actually get the groups, use str.extract.\n",
      "  _df['trustworthy_source'] = (_df['text'].str.contains('|'.join(reliable_sources), regex=True)).astype('int')\n"
     ]
    },
    {
     "data": {
      "text/html": [
       "<div>\n",
       "<style scoped>\n",
       "    .dataframe tbody tr th:only-of-type {\n",
       "        vertical-align: middle;\n",
       "    }\n",
       "\n",
       "    .dataframe tbody tr th {\n",
       "        vertical-align: top;\n",
       "    }\n",
       "\n",
       "    .dataframe thead th {\n",
       "        text-align: right;\n",
       "    }\n",
       "</style>\n",
       "<table border=\"1\" class=\"dataframe\">\n",
       "  <thead>\n",
       "    <tr style=\"text-align: right;\">\n",
       "      <th></th>\n",
       "      <th>title_length</th>\n",
       "      <th>capital_letters_part</th>\n",
       "      <th>trustworthy_source</th>\n",
       "      <th>link_count</th>\n",
       "      <th>spam_phrases</th>\n",
       "      <th>punctuation_marks_per_char</th>\n",
       "      <th>avg_word_length</th>\n",
       "      <th>type</th>\n",
       "    </tr>\n",
       "  </thead>\n",
       "  <tbody>\n",
       "    <tr>\n",
       "      <th>1</th>\n",
       "      <td>82</td>\n",
       "      <td>0.426829</td>\n",
       "      <td>0</td>\n",
       "      <td>0</td>\n",
       "      <td>0</td>\n",
       "      <td>0.019243</td>\n",
       "      <td>5.199203</td>\n",
       "      <td>0</td>\n",
       "    </tr>\n",
       "    <tr>\n",
       "      <th>2</th>\n",
       "      <td>61</td>\n",
       "      <td>0.049180</td>\n",
       "      <td>1</td>\n",
       "      <td>0</td>\n",
       "      <td>0</td>\n",
       "      <td>0.010152</td>\n",
       "      <td>5.030612</td>\n",
       "      <td>1</td>\n",
       "    </tr>\n",
       "    <tr>\n",
       "      <th>3</th>\n",
       "      <td>63</td>\n",
       "      <td>0.079365</td>\n",
       "      <td>1</td>\n",
       "      <td>0</td>\n",
       "      <td>0</td>\n",
       "      <td>0.016529</td>\n",
       "      <td>5.173469</td>\n",
       "      <td>1</td>\n",
       "    </tr>\n",
       "    <tr>\n",
       "      <th>4</th>\n",
       "      <td>83</td>\n",
       "      <td>0.144578</td>\n",
       "      <td>0</td>\n",
       "      <td>0</td>\n",
       "      <td>0</td>\n",
       "      <td>0.029577</td>\n",
       "      <td>5.290065</td>\n",
       "      <td>0</td>\n",
       "    </tr>\n",
       "    <tr>\n",
       "      <th>5</th>\n",
       "      <td>64</td>\n",
       "      <td>0.015625</td>\n",
       "      <td>1</td>\n",
       "      <td>0</td>\n",
       "      <td>0</td>\n",
       "      <td>0.023769</td>\n",
       "      <td>5.200000</td>\n",
       "      <td>1</td>\n",
       "    </tr>\n",
       "  </tbody>\n",
       "</table>\n",
       "</div>"
      ],
      "text/plain": [
       "   title_length  capital_letters_part  trustworthy_source  link_count  \\\n",
       "1            82              0.426829                   0           0   \n",
       "2            61              0.049180                   1           0   \n",
       "3            63              0.079365                   1           0   \n",
       "4            83              0.144578                   0           0   \n",
       "5            64              0.015625                   1           0   \n",
       "\n",
       "   spam_phrases  punctuation_marks_per_char  avg_word_length  type  \n",
       "1             0                    0.019243         5.199203     0  \n",
       "2             0                    0.010152         5.030612     1  \n",
       "3             0                    0.016529         5.173469     1  \n",
       "4             0                    0.029577         5.290065     0  \n",
       "5             0                    0.023769         5.200000     1  "
      ]
     },
     "execution_count": 11,
     "metadata": {},
     "output_type": "execute_result"
    }
   ],
   "source": [
    "train_copy = generate_metadata_columns(train_copy)\n",
    "train_copy.head()"
   ]
  },
  {
   "cell_type": "code",
   "execution_count": 12,
   "id": "56bcf52a",
   "metadata": {
    "scrolled": true
   },
   "outputs": [
    {
     "data": {
      "text/plain": [
       "array([[<Axes: title={'center': 'title_length'}>,\n",
       "        <Axes: title={'center': 'capital_letters_part'}>,\n",
       "        <Axes: title={'center': 'trustworthy_source'}>],\n",
       "       [<Axes: title={'center': 'link_count'}>,\n",
       "        <Axes: title={'center': 'spam_phrases'}>,\n",
       "        <Axes: title={'center': 'punctuation_marks_per_char'}>],\n",
       "       [<Axes: title={'center': 'avg_word_length'}>,\n",
       "        <Axes: title={'center': 'type'}>, <Axes: >]], dtype=object)"
      ]
     },
     "execution_count": 12,
     "metadata": {},
     "output_type": "execute_result"
    },
    {
     "data": {
      "image/png": "[encoded data removed]",
      "text/plain": [
       "<Figure size 2000x1000 with 9 Axes>"
      ]
     },
     "metadata": {},
     "output_type": "display_data"
    }
   ],
   "source": [
    "import matplotlib.pyplot as plt\n",
    "train_copy.hist(figsize=(20,10))"
   ]
  },
  {
   "cell_type": "code",
   "execution_count": 13,
   "id": "d5a1f686",
   "metadata": {},
   "outputs": [
    {
     "data": {
      "text/plain": [
       "<Axes: >"
      ]
     },
     "execution_count": 13,
     "metadata": {},
     "output_type": "execute_result"
    },
    {
     "data": {
      "image/png": "[encoded data removed]",
      "text/plain": [
       "<Figure size 640x480 with 2 Axes>"
      ]
     },
     "metadata": {},
     "output_type": "display_data"
    }
   ],
   "source": [
    "import seaborn as sns\n",
    "sns.heatmap(train_copy.corr())"
   ]
  },
  {
   "cell_type": "markdown",
   "id": "989524fc",
   "metadata": {},
   "source": [
    "## Gini"
   ]
  },
  {
   "cell_type": "code",
   "execution_count": 14,
   "id": "ee7620c6",
   "metadata": {},
   "outputs": [],
   "source": [
    "def gini(x):\n",
    "    total = 0\n",
    "    for i, xi in enumerate(x[:-1], 1):\n",
    "        total += np.sum(np.abs(xi - x[i:]))\n",
    "    return total / (len(x)**2 * np.mean(x))"
   ]
  },
  {
   "cell_type": "code",
   "execution_count": 15,
   "id": "5a139140",
   "metadata": {},
   "outputs": [
    {
     "name": "stdout",
     "output_type": "stream",
     "text": [
      "title_length  0.17936792987049172\n",
      "capital_letters_part  0.4367796560586575\n",
      "trustworthy_source  0.5789981263088284\n",
      "link_count  0.9261528339495406\n",
      "spam_phrases  0.9806568940813403\n",
      "punctuation_marks_per_char  0.1597441415351547\n",
      "avg_word_length  0.05723129305665818\n",
      "type  0.5708420588559462\n"
     ]
    }
   ],
   "source": [
    "for i in train_copy.columns:\n",
    "    print(i, \"\", gini(train_copy[i]))"
   ]
  },
  {
   "cell_type": "markdown",
   "id": "b6146566",
   "metadata": {},
   "source": [
    "## Standardization"
   ]
  },
  {
   "cell_type": "code",
   "execution_count": 16,
   "id": "0c981eb4",
   "metadata": {},
   "outputs": [],
   "source": [
    "from sklearn.preprocessing import StandardScaler\n",
    "scaler = StandardScaler()\n",
    "def standardize(df):\n",
    "    _df = df.copy()\n",
    "    _df.loc[:, df.columns != \"type\"] = scaler.fit_transform(_df.loc[:,df.columns != \"type\"].values)\n",
    "    return df"
   ]
  },
  {
   "cell_type": "markdown",
   "id": "9dc6046c",
   "metadata": {},
   "source": [
    "### Preprocess function"
   ]
  },
  {
   "cell_type": "code",
   "execution_count": 17,
   "id": "7cce4d80",
   "metadata": {},
   "outputs": [],
   "source": [
    "def preprocess(df, remove_languages=True):\n",
    "    _df = df.copy()\n",
    "    _df = replace_na(_df)\n",
    "#     if remove_languages:                  # this has to be done outside of this function to make sure that both metadata and tf-idf classifier  remove the exact same rows\n",
    "#         _df = remove_other_languages(_df)\n",
    "    _df = generate_metadata_columns(_df)\n",
    "    _df = standardize(_df)\n",
    "    return _df"
   ]
  },
  {
   "cell_type": "code",
   "execution_count": 18,
   "id": "c07b926f",
   "metadata": {},
   "outputs": [
    {
     "name": "stdout",
     "output_type": "stream",
     "text": [
      "There are 1797 rows with a language different than English\n"
     ]
    },
    {
     "name": "stderr",
     "output_type": "stream",
     "text": [
      "/var/folders/l_/7bmr3bvd63v8fld1s2fcmh7w0000gn/T/ipykernel_62568/1885311886.py:38: UserWarning: This pattern is interpreted as a regular expression, and has match groups. To actually get the groups, use str.extract.\n",
      "  _df['trustworthy_source'] = (_df['text'].str.contains('|'.join(reliable_sources), regex=True)).astype('int')\n"
     ]
    },
    {
     "data": {
      "text/html": [
       "<div>\n",
       "<style scoped>\n",
       "    .dataframe tbody tr th:only-of-type {\n",
       "        vertical-align: middle;\n",
       "    }\n",
       "\n",
       "    .dataframe tbody tr th {\n",
       "        vertical-align: top;\n",
       "    }\n",
       "\n",
       "    .dataframe thead th {\n",
       "        text-align: right;\n",
       "    }\n",
       "</style>\n",
       "<table border=\"1\" class=\"dataframe\">\n",
       "  <thead>\n",
       "    <tr style=\"text-align: right;\">\n",
       "      <th></th>\n",
       "      <th>title_length</th>\n",
       "      <th>capital_letters_part</th>\n",
       "      <th>trustworthy_source</th>\n",
       "      <th>link_count</th>\n",
       "      <th>spam_phrases</th>\n",
       "      <th>punctuation_marks_per_char</th>\n",
       "      <th>avg_word_length</th>\n",
       "      <th>type</th>\n",
       "    </tr>\n",
       "  </thead>\n",
       "  <tbody>\n",
       "    <tr>\n",
       "      <th>1</th>\n",
       "      <td>82</td>\n",
       "      <td>0.426829</td>\n",
       "      <td>0</td>\n",
       "      <td>0</td>\n",
       "      <td>0</td>\n",
       "      <td>0.019243</td>\n",
       "      <td>5.199203</td>\n",
       "      <td>0</td>\n",
       "    </tr>\n",
       "    <tr>\n",
       "      <th>2</th>\n",
       "      <td>61</td>\n",
       "      <td>0.049180</td>\n",
       "      <td>1</td>\n",
       "      <td>0</td>\n",
       "      <td>0</td>\n",
       "      <td>0.010152</td>\n",
       "      <td>5.030612</td>\n",
       "      <td>1</td>\n",
       "    </tr>\n",
       "    <tr>\n",
       "      <th>3</th>\n",
       "      <td>63</td>\n",
       "      <td>0.079365</td>\n",
       "      <td>1</td>\n",
       "      <td>0</td>\n",
       "      <td>0</td>\n",
       "      <td>0.016529</td>\n",
       "      <td>5.173469</td>\n",
       "      <td>1</td>\n",
       "    </tr>\n",
       "    <tr>\n",
       "      <th>4</th>\n",
       "      <td>83</td>\n",
       "      <td>0.144578</td>\n",
       "      <td>0</td>\n",
       "      <td>0</td>\n",
       "      <td>0</td>\n",
       "      <td>0.029577</td>\n",
       "      <td>5.290065</td>\n",
       "      <td>0</td>\n",
       "    </tr>\n",
       "    <tr>\n",
       "      <th>5</th>\n",
       "      <td>64</td>\n",
       "      <td>0.015625</td>\n",
       "      <td>1</td>\n",
       "      <td>0</td>\n",
       "      <td>0</td>\n",
       "      <td>0.023769</td>\n",
       "      <td>5.200000</td>\n",
       "      <td>1</td>\n",
       "    </tr>\n",
       "  </tbody>\n",
       "</table>\n",
       "</div>"
      ],
      "text/plain": [
       "   title_length  capital_letters_part  trustworthy_source  link_count  \\\n",
       "1            82              0.426829                   0           0   \n",
       "2            61              0.049180                   1           0   \n",
       "3            63              0.079365                   1           0   \n",
       "4            83              0.144578                   0           0   \n",
       "5            64              0.015625                   1           0   \n",
       "\n",
       "   spam_phrases  punctuation_marks_per_char  avg_word_length  type  \n",
       "1             0                    0.019243         5.199203     0  \n",
       "2             0                    0.010152         5.030612     1  \n",
       "3             0                    0.016529         5.173469     1  \n",
       "4             0                    0.029577         5.290065     0  \n",
       "5             0                    0.023769         5.200000     1  "
      ]
     },
     "execution_count": 18,
     "metadata": {},
     "output_type": "execute_result"
    }
   ],
   "source": [
    "train_english = replace_na(train)\n",
    "train_english = remove_other_languages(train_english)\n",
    "df = preprocess(train_english)\n",
    "df.head()"
   ]
  },
  {
   "cell_type": "markdown",
   "id": "f624ce95",
   "metadata": {},
   "source": [
    "## Model"
   ]
  },
  {
   "cell_type": "code",
   "execution_count": 19,
   "id": "4276d87c",
   "metadata": {},
   "outputs": [
    {
     "data": {
      "text/html": [
       "<style>#sk-container-id-1 {color: black;background-color: white;}#sk-container-id-1 pre{padding: 0;}#sk-container-id-1 div.sk-toggleable {background-color: white;}#sk-container-id-1 label.sk-toggleable__label {cursor: pointer;display: block;width: 100%;margin-bottom: 0;padding: 0.3em;box-sizing: border-box;text-align: center;}#sk-container-id-1 label.sk-toggleable__label-arrow:before {content: \"▸\";float: left;margin-right: 0.25em;color: #696969;}#sk-container-id-1 label.sk-toggleable__label-arrow:hover:before {color: black;}#sk-container-id-1 div.sk-estimator:hover label.sk-toggleable__label-arrow:before {color: black;}#sk-container-id-1 div.sk-toggleable__content {max-height: 0;max-width: 0;overflow: hidden;text-align: left;background-color: #f0f8ff;}#sk-container-id-1 div.sk-toggleable__content pre {margin: 0.2em;color: black;border-radius: 0.25em;background-color: #f0f8ff;}#sk-container-id-1 input.sk-toggleable__control:checked~div.sk-toggleable__content {max-height: 200px;max-width: 100%;overflow: auto;}#sk-container-id-1 input.sk-toggleable__control:checked~label.sk-toggleable__label-arrow:before {content: \"▾\";}#sk-container-id-1 div.sk-estimator input.sk-toggleable__control:checked~label.sk-toggleable__label {background-color: #d4ebff;}#sk-container-id-1 div.sk-label input.sk-toggleable__control:checked~label.sk-toggleable__label {background-color: #d4ebff;}#sk-container-id-1 input.sk-hidden--visually {border: 0;clip: rect(1px 1px 1px 1px);clip: rect(1px, 1px, 1px, 1px);height: 1px;margin: -1px;overflow: hidden;padding: 0;position: absolute;width: 1px;}#sk-container-id-1 div.sk-estimator {font-family: monospace;background-color: #f0f8ff;border: 1px dotted black;border-radius: 0.25em;box-sizing: border-box;margin-bottom: 0.5em;}#sk-container-id-1 div.sk-estimator:hover {background-color: #d4ebff;}#sk-container-id-1 div.sk-parallel-item::after {content: \"\";width: 100%;border-bottom: 1px solid gray;flex-grow: 1;}#sk-container-id-1 div.sk-label:hover label.sk-toggleable__label {background-color: #d4ebff;}#sk-container-id-1 div.sk-serial::before {content: \"\";position: absolute;border-left: 1px solid gray;box-sizing: border-box;top: 0;bottom: 0;left: 50%;z-index: 0;}#sk-container-id-1 div.sk-serial {display: flex;flex-direction: column;align-items: center;background-color: white;padding-right: 0.2em;padding-left: 0.2em;position: relative;}#sk-container-id-1 div.sk-item {position: relative;z-index: 1;}#sk-container-id-1 div.sk-parallel {display: flex;align-items: stretch;justify-content: center;background-color: white;position: relative;}#sk-container-id-1 div.sk-item::before, #sk-container-id-1 div.sk-parallel-item::before {content: \"\";position: absolute;border-left: 1px solid gray;box-sizing: border-box;top: 0;bottom: 0;left: 50%;z-index: -1;}#sk-container-id-1 div.sk-parallel-item {display: flex;flex-direction: column;z-index: 1;position: relative;background-color: white;}#sk-container-id-1 div.sk-parallel-item:first-child::after {align-self: flex-end;width: 50%;}#sk-container-id-1 div.sk-parallel-item:last-child::after {align-self: flex-start;width: 50%;}#sk-container-id-1 div.sk-parallel-item:only-child::after {width: 0;}#sk-container-id-1 div.sk-dashed-wrapped {border: 1px dashed gray;margin: 0 0.4em 0.5em 0.4em;box-sizing: border-box;padding-bottom: 0.4em;background-color: white;}#sk-container-id-1 div.sk-label label {font-family: monospace;font-weight: bold;display: inline-block;line-height: 1.2em;}#sk-container-id-1 div.sk-label-container {text-align: center;}#sk-container-id-1 div.sk-container {/* jupyter's `normalize.less` sets `[hidden] { display: none; }` but bootstrap.min.css set `[hidden] { display: none !important; }` so we also need the `!important` here to be able to override the default hidden behavior on the sphinx rendered scikit-learn.org. See: https://github.com/scikit-learn/scikit-learn/issues/21755 */display: inline-block !important;position: relative;}#sk-container-id-1 div.sk-text-repr-fallback {display: none;}</style><div id=\"sk-container-id-1\" class=\"sk-top-container\"><div class=\"sk-text-repr-fallback\"><pre>RandomForestClassifier()</pre><b>In a Jupyter environment, please rerun this cell to show the HTML representation or trust the notebook. <br />On GitHub, the HTML representation is unable to render, please try loading this page with nbviewer.org.</b></div><div class=\"sk-container\" hidden><div class=\"sk-item\"><div class=\"sk-estimator sk-toggleable\"><input class=\"sk-toggleable__control sk-hidden--visually\" id=\"sk-estimator-id-1\" type=\"checkbox\" checked><label for=\"sk-estimator-id-1\" class=\"sk-toggleable__label sk-toggleable__label-arrow\">RandomForestClassifier</label><div class=\"sk-toggleable__content\"><pre>RandomForestClassifier()</pre></div></div></div></div></div>"
      ],
      "text/plain": [
       "RandomForestClassifier()"
      ]
     },
     "execution_count": 19,
     "metadata": {},
     "output_type": "execute_result"
    }
   ],
   "source": [
    "from sklearn.ensemble import RandomForestClassifier\n",
    "\n",
    "target = df['type']\n",
    "X_train_metadata = df.drop('type', axis=1)\n",
    "\n",
    "metadata_classifier = RandomForestClassifier()\n",
    "\n",
    "metadata_classifier.fit(X_train_metadata, target)"
   ]
  },
  {
   "cell_type": "markdown",
   "id": "9d9adb04",
   "metadata": {},
   "source": [
    "## Prediction"
   ]
  },
  {
   "cell_type": "code",
   "execution_count": 20,
   "id": "55503f7b",
   "metadata": {},
   "outputs": [
    {
     "name": "stderr",
     "output_type": "stream",
     "text": [
      "/var/folders/l_/7bmr3bvd63v8fld1s2fcmh7w0000gn/T/ipykernel_62568/1885311886.py:38: UserWarning: This pattern is interpreted as a regular expression, and has match groups. To actually get the groups, use str.extract.\n",
      "  _df['trustworthy_source'] = (_df['text'].str.contains('|'.join(reliable_sources), regex=True)).astype('int')\n"
     ]
    },
    {
     "name": "stdout",
     "output_type": "stream",
     "text": [
      "              precision    recall  f1-score   support\n",
      "\n",
      "           0       0.94      0.97      0.95      8551\n",
      "           1       0.94      0.90      0.92      5258\n",
      "\n",
      "    accuracy                           0.94     13809\n",
      "   macro avg       0.94      0.93      0.94     13809\n",
      "weighted avg       0.94      0.94      0.94     13809\n",
      "\n"
     ]
    },
    {
     "data": {
      "text/html": [
       "<div>\n",
       "<style scoped>\n",
       "    .dataframe tbody tr th:only-of-type {\n",
       "        vertical-align: middle;\n",
       "    }\n",
       "\n",
       "    .dataframe tbody tr th {\n",
       "        vertical-align: top;\n",
       "    }\n",
       "\n",
       "    .dataframe thead th {\n",
       "        text-align: right;\n",
       "    }\n",
       "</style>\n",
       "<table border=\"1\" class=\"dataframe\">\n",
       "  <thead>\n",
       "    <tr style=\"text-align: right;\">\n",
       "      <th></th>\n",
       "      <th>title_length</th>\n",
       "      <th>capital_letters_part</th>\n",
       "      <th>trustworthy_source</th>\n",
       "      <th>link_count</th>\n",
       "      <th>spam_phrases</th>\n",
       "      <th>punctuation_marks_per_char</th>\n",
       "      <th>avg_word_length</th>\n",
       "    </tr>\n",
       "  </thead>\n",
       "  <tbody>\n",
       "    <tr>\n",
       "      <th>41426</th>\n",
       "      <td>109</td>\n",
       "      <td>0.458716</td>\n",
       "      <td>0</td>\n",
       "      <td>0</td>\n",
       "      <td>0</td>\n",
       "      <td>0.020740</td>\n",
       "      <td>4.915984</td>\n",
       "    </tr>\n",
       "    <tr>\n",
       "      <th>41427</th>\n",
       "      <td>96</td>\n",
       "      <td>0.197917</td>\n",
       "      <td>0</td>\n",
       "      <td>1</td>\n",
       "      <td>0</td>\n",
       "      <td>0.013040</td>\n",
       "      <td>5.154734</td>\n",
       "    </tr>\n",
       "    <tr>\n",
       "      <th>41428</th>\n",
       "      <td>67</td>\n",
       "      <td>0.164179</td>\n",
       "      <td>0</td>\n",
       "      <td>0</td>\n",
       "      <td>0</td>\n",
       "      <td>0.021449</td>\n",
       "      <td>5.187500</td>\n",
       "    </tr>\n",
       "    <tr>\n",
       "      <th>41429</th>\n",
       "      <td>79</td>\n",
       "      <td>0.177215</td>\n",
       "      <td>0</td>\n",
       "      <td>0</td>\n",
       "      <td>0</td>\n",
       "      <td>0.019397</td>\n",
       "      <td>4.395872</td>\n",
       "    </tr>\n",
       "    <tr>\n",
       "      <th>41430</th>\n",
       "      <td>29</td>\n",
       "      <td>0.310345</td>\n",
       "      <td>1</td>\n",
       "      <td>3</td>\n",
       "      <td>0</td>\n",
       "      <td>0.016908</td>\n",
       "      <td>5.402055</td>\n",
       "    </tr>\n",
       "  </tbody>\n",
       "</table>\n",
       "</div>"
      ],
      "text/plain": [
       "       title_length  capital_letters_part  trustworthy_source  link_count  \\\n",
       "41426           109              0.458716                   0           0   \n",
       "41427            96              0.197917                   0           1   \n",
       "41428            67              0.164179                   0           0   \n",
       "41429            79              0.177215                   0           0   \n",
       "41430            29              0.310345                   1           3   \n",
       "\n",
       "       spam_phrases  punctuation_marks_per_char  avg_word_length  \n",
       "41426             0                    0.020740         4.915984  \n",
       "41427             0                    0.013040         5.154734  \n",
       "41428             0                    0.021449         5.187500  \n",
       "41429             0                    0.019397         4.395872  \n",
       "41430             0                    0.016908         5.402055  "
      ]
     },
     "execution_count": 20,
     "metadata": {},
     "output_type": "execute_result"
    }
   ],
   "source": [
    "from sklearn.metrics import classification_report\n",
    "\n",
    "df_test = preprocess(test, remove_languages=False)\n",
    "X_test = df_test.drop('type', axis=1)\n",
    "y_test = df_test['type']\n",
    "\n",
    "metadata_pred = metadata_classifier.predict(X_test)\n",
    "\n",
    "print(classification_report(y_test, metadata_pred))\n",
    "\n",
    "X_test.head()"
   ]
  },
  {
   "cell_type": "markdown",
   "id": "31c8f7ce",
   "metadata": {},
   "source": [
    "## Tf-Idf"
   ]
  },
  {
   "cell_type": "code",
   "execution_count": 21,
   "id": "dcdbfdd1",
   "metadata": {},
   "outputs": [],
   "source": [
    "from sklearn.feature_extraction.text import TfidfVectorizer\n",
    "from sklearn.feature_extraction.text import ENGLISH_STOP_WORDS\n",
    "\n",
    "\n",
    "def tfidf(column: pd.Series) -> tuple[TfidfVectorizer, pd.DataFrame]:\n",
    "    vectorizer = TfidfVectorizer(token_pattern=r'(?u)\\b[A-Za-z]+\\b', # exclude digits\n",
    "                                 stop_words=list(ENGLISH_STOP_WORDS)) # exclude stop words\n",
    "    sparse_matrix = vectorizer.fit_transform(column.str.lower())\n",
    "    feature_names = vectorizer.get_feature_names_out()\n",
    "    \n",
    "    return vectorizer, pd.DataFrame.sparse.from_spmatrix(sparse_matrix, columns=feature_names)\n",
    "\n",
    "def transform_title_columns(columns):\n",
    "    return [col + '_tit1e' for col in columns] # tit1e with 1 because digits are ignored by the vectorizer so adding a digit to a column name guarantess its uniqueness\n",
    "\n",
    "def generate_tfidf_columns(df) -> tuple[pd.DataFrame, TfidfVectorizer, TfidfVectorizer]:\n",
    "    text_vectorizer, text_tfidf = tfidf(df['text'])\n",
    "\n",
    "    title_vectorizer, title_tfidf = tfidf(df['title'])\n",
    "    title_tfidf.columns = transform_title_columns(title_tfidf.columns)\n",
    "    \n",
    "    X_train = pd.concat([title_tfidf, text_tfidf], axis=1)\n",
    "    \n",
    "    return X_train, title_vectorizer, text_vectorizer\n",
    "    \n",
    "def apply_vectorizers_to_test(X_test: pd.DataFrame, title_vectorizer, text_vectorizer) -> pd.DataFrame:\n",
    "    vectorized_title = title_vectorizer.transform(X_test['title'])\n",
    "    X_title = pd.DataFrame.sparse.from_spmatrix(vectorized_title, \n",
    "                                                columns=title_vectorizer.get_feature_names_out())\n",
    "    X_title.columns = transform_title_columns(X_title.columns)\n",
    "    \n",
    "    vectorized_text = text_vectorizer.transform(X_test['text'])\n",
    "    X_text = pd.DataFrame.sparse.from_spmatrix(vectorized_text, \n",
    "                                               columns=text_vectorizer.get_feature_names_out())\n",
    "    \n",
    "    return pd.concat([X_title, X_text], axis=1)\n"
   ]
  },
  {
   "cell_type": "code",
   "execution_count": 22,
   "id": "58b6b4a6",
   "metadata": {},
   "outputs": [],
   "source": [
    "train_preprocessed = train_english.copy()\n",
    "test_preprocessed = replace_na(test)\n",
    "y_train = train_preprocessed['type']\n",
    "y_test = test_preprocessed['type']\n",
    "y_train = train_preprocessed['type']\n",
    "y_test = test_preprocessed['type']\n",
    "    \n",
    "    \n",
    "X_train_tfidf, title_vectorizer, text_vectorizer = generate_tfidf_columns(train_preprocessed)\n",
    "X_test = apply_vectorizers_to_test(test_preprocessed, title_vectorizer, text_vectorizer)\n",
    "\n",
    "# classifier\n",
    "from sklearn.ensemble import RandomForestClassifier\n",
    "tfidf_classifier = RandomForestClassifier()\n",
    "tfidf_classifier.fit(X_train_tfidf, y_train)\n",
    "\n",
    "tfidf_pred = tfidf_classifier.predict(X_test)"
   ]
  },
  {
   "cell_type": "code",
   "execution_count": 23,
   "id": "2812ef36",
   "metadata": {},
   "outputs": [
    {
     "name": "stdout",
     "output_type": "stream",
     "text": [
      "              precision    recall  f1-score   support\n",
      "\n",
      "           0       0.98      0.93      0.95      8929\n",
      "           1       0.89      0.96      0.92      4880\n",
      "\n",
      "    accuracy                           0.94     13809\n",
      "   macro avg       0.93      0.95      0.94     13809\n",
      "weighted avg       0.94      0.94      0.94     13809\n",
      "\n",
      "(39629, 145949)\n"
     ]
    }
   ],
   "source": [
    "print(classification_report(tfidf_pred, y_test))\n",
    "print(X_train_tfidf.shape)"
   ]
  },
  {
   "cell_type": "markdown",
   "id": "bd9bd5b7",
   "metadata": {},
   "source": [
    "## Naive attempt of merging classifiers"
   ]
  },
  {
   "cell_type": "markdown",
   "id": "351c6f07",
   "metadata": {},
   "source": [
    "Based on classification reports, we came up with a naive way to merge classifiers, which is based on the fact that the tfidf classifier turned out to be very precise when predicting 0 and the metadata classifier was more precise when predicting 1."
   ]
  },
  {
   "cell_type": "code",
   "execution_count": 24,
   "id": "8e90c36e",
   "metadata": {},
   "outputs": [
    {
     "name": "stdout",
     "output_type": "stream",
     "text": [
      "[[0 0]\n",
      " [0 0]\n",
      " [0 0]\n",
      " [0 0]\n",
      " [0 0]\n",
      " [1 1]\n",
      " [0 0]\n",
      " [0 0]\n",
      " [1 1]\n",
      " [0 0]]\n",
      "              precision    recall  f1-score   support\n",
      "\n",
      "           0       0.99      0.91      0.95      9311\n",
      "           1       0.85      0.99      0.91      4498\n",
      "\n",
      "    accuracy                           0.94     13809\n",
      "   macro avg       0.92      0.95      0.93     13809\n",
      "weighted avg       0.95      0.94      0.94     13809\n",
      "\n"
     ]
    }
   ],
   "source": [
    "def final_classification(row):\n",
    "    if row['tfidf_pred'] == 0:\n",
    "        return 0\n",
    "    if row['metadata_pred'] == 1:\n",
    "        return 1\n",
    "       \n",
    "    return 0\n",
    "\n",
    "stacked = np.vstack((tfidf_pred, metadata_pred)).transpose()\n",
    "print(stacked[:10])\n",
    "\n",
    "final_df = pd.DataFrame(stacked, columns = ['tfidf_pred', 'metadata_pred'])\n",
    "y_pred = final_df.apply(lambda row: final_classification(row), axis=1)\n",
    "print(classification_report(y_pred, y_test))"
   ]
  },
  {
   "cell_type": "markdown",
   "id": "901020cb",
   "metadata": {},
   "source": [
    "## Merging classifier using another classifier"
   ]
  },
  {
   "cell_type": "code",
   "execution_count": 25,
   "id": "c0e3060e",
   "metadata": {
    "scrolled": true
   },
   "outputs": [],
   "source": [
    "y_train_metadata_pred = metadata_classifier.predict(X_train_metadata)\n",
    "y_train_tfidf_pred = tfidf_classifier.predict(X_train_tfidf)"
   ]
  },
  {
   "cell_type": "code",
   "execution_count": 26,
   "id": "4cdab5dc",
   "metadata": {},
   "outputs": [
    {
     "data": {
      "text/html": [
       "<div>\n",
       "<style scoped>\n",
       "    .dataframe tbody tr th:only-of-type {\n",
       "        vertical-align: middle;\n",
       "    }\n",
       "\n",
       "    .dataframe tbody tr th {\n",
       "        vertical-align: top;\n",
       "    }\n",
       "\n",
       "    .dataframe thead th {\n",
       "        text-align: right;\n",
       "    }\n",
       "</style>\n",
       "<table border=\"1\" class=\"dataframe\">\n",
       "  <thead>\n",
       "    <tr style=\"text-align: right;\">\n",
       "      <th></th>\n",
       "      <th>tfidf_pred</th>\n",
       "      <th>metadata_pred</th>\n",
       "    </tr>\n",
       "  </thead>\n",
       "  <tbody>\n",
       "    <tr>\n",
       "      <th>0</th>\n",
       "      <td>0</td>\n",
       "      <td>0</td>\n",
       "    </tr>\n",
       "    <tr>\n",
       "      <th>1</th>\n",
       "      <td>1</td>\n",
       "      <td>1</td>\n",
       "    </tr>\n",
       "    <tr>\n",
       "      <th>2</th>\n",
       "      <td>1</td>\n",
       "      <td>1</td>\n",
       "    </tr>\n",
       "    <tr>\n",
       "      <th>3</th>\n",
       "      <td>0</td>\n",
       "      <td>0</td>\n",
       "    </tr>\n",
       "    <tr>\n",
       "      <th>4</th>\n",
       "      <td>1</td>\n",
       "      <td>1</td>\n",
       "    </tr>\n",
       "  </tbody>\n",
       "</table>\n",
       "</div>"
      ],
      "text/plain": [
       "   tfidf_pred  metadata_pred\n",
       "0           0              0\n",
       "1           1              1\n",
       "2           1              1\n",
       "3           0              0\n",
       "4           1              1"
      ]
     },
     "execution_count": 26,
     "metadata": {},
     "output_type": "execute_result"
    }
   ],
   "source": [
    "stacked = np.vstack([y_train_tfidf_pred, y_train_metadata_pred]).transpose()\n",
    "merged_train_preds = pd.DataFrame(stacked, columns=['tfidf_pred', 'metadata_pred'])\n",
    "merged_train_preds.head()"
   ]
  },
  {
   "cell_type": "code",
   "execution_count": 27,
   "id": "ddfc702a",
   "metadata": {
    "scrolled": true
   },
   "outputs": [
    {
     "data": {
      "text/html": [
       "<style>#sk-container-id-2 {color: black;background-color: white;}#sk-container-id-2 pre{padding: 0;}#sk-container-id-2 div.sk-toggleable {background-color: white;}#sk-container-id-2 label.sk-toggleable__label {cursor: pointer;display: block;width: 100%;margin-bottom: 0;padding: 0.3em;box-sizing: border-box;text-align: center;}#sk-container-id-2 label.sk-toggleable__label-arrow:before {content: \"▸\";float: left;margin-right: 0.25em;color: #696969;}#sk-container-id-2 label.sk-toggleable__label-arrow:hover:before {color: black;}#sk-container-id-2 div.sk-estimator:hover label.sk-toggleable__label-arrow:before {color: black;}#sk-container-id-2 div.sk-toggleable__content {max-height: 0;max-width: 0;overflow: hidden;text-align: left;background-color: #f0f8ff;}#sk-container-id-2 div.sk-toggleable__content pre {margin: 0.2em;color: black;border-radius: 0.25em;background-color: #f0f8ff;}#sk-container-id-2 input.sk-toggleable__control:checked~div.sk-toggleable__content {max-height: 200px;max-width: 100%;overflow: auto;}#sk-container-id-2 input.sk-toggleable__control:checked~label.sk-toggleable__label-arrow:before {content: \"▾\";}#sk-container-id-2 div.sk-estimator input.sk-toggleable__control:checked~label.sk-toggleable__label {background-color: #d4ebff;}#sk-container-id-2 div.sk-label input.sk-toggleable__control:checked~label.sk-toggleable__label {background-color: #d4ebff;}#sk-container-id-2 input.sk-hidden--visually {border: 0;clip: rect(1px 1px 1px 1px);clip: rect(1px, 1px, 1px, 1px);height: 1px;margin: -1px;overflow: hidden;padding: 0;position: absolute;width: 1px;}#sk-container-id-2 div.sk-estimator {font-family: monospace;background-color: #f0f8ff;border: 1px dotted black;border-radius: 0.25em;box-sizing: border-box;margin-bottom: 0.5em;}#sk-container-id-2 div.sk-estimator:hover {background-color: #d4ebff;}#sk-container-id-2 div.sk-parallel-item::after {content: \"\";width: 100%;border-bottom: 1px solid gray;flex-grow: 1;}#sk-container-id-2 div.sk-label:hover label.sk-toggleable__label {background-color: #d4ebff;}#sk-container-id-2 div.sk-serial::before {content: \"\";position: absolute;border-left: 1px solid gray;box-sizing: border-box;top: 0;bottom: 0;left: 50%;z-index: 0;}#sk-container-id-2 div.sk-serial {display: flex;flex-direction: column;align-items: center;background-color: white;padding-right: 0.2em;padding-left: 0.2em;position: relative;}#sk-container-id-2 div.sk-item {position: relative;z-index: 1;}#sk-container-id-2 div.sk-parallel {display: flex;align-items: stretch;justify-content: center;background-color: white;position: relative;}#sk-container-id-2 div.sk-item::before, #sk-container-id-2 div.sk-parallel-item::before {content: \"\";position: absolute;border-left: 1px solid gray;box-sizing: border-box;top: 0;bottom: 0;left: 50%;z-index: -1;}#sk-container-id-2 div.sk-parallel-item {display: flex;flex-direction: column;z-index: 1;position: relative;background-color: white;}#sk-container-id-2 div.sk-parallel-item:first-child::after {align-self: flex-end;width: 50%;}#sk-container-id-2 div.sk-parallel-item:last-child::after {align-self: flex-start;width: 50%;}#sk-container-id-2 div.sk-parallel-item:only-child::after {width: 0;}#sk-container-id-2 div.sk-dashed-wrapped {border: 1px dashed gray;margin: 0 0.4em 0.5em 0.4em;box-sizing: border-box;padding-bottom: 0.4em;background-color: white;}#sk-container-id-2 div.sk-label label {font-family: monospace;font-weight: bold;display: inline-block;line-height: 1.2em;}#sk-container-id-2 div.sk-label-container {text-align: center;}#sk-container-id-2 div.sk-container {/* jupyter's `normalize.less` sets `[hidden] { display: none; }` but bootstrap.min.css set `[hidden] { display: none !important; }` so we also need the `!important` here to be able to override the default hidden behavior on the sphinx rendered scikit-learn.org. See: https://github.com/scikit-learn/scikit-learn/issues/21755 */display: inline-block !important;position: relative;}#sk-container-id-2 div.sk-text-repr-fallback {display: none;}</style><div id=\"sk-container-id-2\" class=\"sk-top-container\"><div class=\"sk-text-repr-fallback\"><pre>RandomForestClassifier()</pre><b>In a Jupyter environment, please rerun this cell to show the HTML representation or trust the notebook. <br />On GitHub, the HTML representation is unable to render, please try loading this page with nbviewer.org.</b></div><div class=\"sk-container\" hidden><div class=\"sk-item\"><div class=\"sk-estimator sk-toggleable\"><input class=\"sk-toggleable__control sk-hidden--visually\" id=\"sk-estimator-id-2\" type=\"checkbox\" checked><label for=\"sk-estimator-id-2\" class=\"sk-toggleable__label sk-toggleable__label-arrow\">RandomForestClassifier</label><div class=\"sk-toggleable__content\"><pre>RandomForestClassifier()</pre></div></div></div></div></div>"
      ],
      "text/plain": [
       "RandomForestClassifier()"
      ]
     },
     "execution_count": 27,
     "metadata": {},
     "output_type": "execute_result"
    }
   ],
   "source": [
    "final_classifier = RandomForestClassifier()\n",
    "final_classifier.fit(merged_train_preds, y_train)"
   ]
  },
  {
   "cell_type": "code",
   "execution_count": 28,
   "id": "4658ea06",
   "metadata": {},
   "outputs": [],
   "source": [
    "y_pred_final = final_classifier.predict(final_df)"
   ]
  },
  {
   "cell_type": "code",
   "execution_count": 29,
   "id": "7093eddd",
   "metadata": {},
   "outputs": [
    {
     "name": "stdout",
     "output_type": "stream",
     "text": [
      "              precision    recall  f1-score   support\n",
      "\n",
      "           0       0.95      0.96      0.96      8424\n",
      "           1       0.94      0.92      0.93      5385\n",
      "\n",
      "    accuracy                           0.95     13809\n",
      "   macro avg       0.94      0.94      0.94     13809\n",
      "weighted avg       0.95      0.95      0.95     13809\n",
      "\n"
     ]
    }
   ],
   "source": [
    "print(classification_report(y_pred_final, y_test))"
   ]
  }
 ],
 "metadata": {
  "kernelspec": {
   "display_name": "venv",
   "language": "python",
   "name": "venv"
  },
  "language_info": {
   "codemirror_mode": {
    "name": "ipython",
    "version": 3
   },
   "file_extension": ".py",
   "mimetype": "text/x-python",
   "name": "python",
   "nbconvert_exporter": "python",
   "pygments_lexer": "ipython3",
   "version": "3.8.8"
  },
  "vscode": {
   "interpreter": {
    "hash": "5793e399947e0496f0e9685f9b9c6bef76e7b31de646eeccb76eb675f6ef9a8d"
   }
  }
 },
 "nbformat": 4,
 "nbformat_minor": 5
}
